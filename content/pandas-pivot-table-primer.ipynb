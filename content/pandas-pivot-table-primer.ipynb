{
 "cells": [
  {
   "cell_type": "markdown",
   "metadata": {},
   "source": [
    "Introduction\n",
    "============\n",
    "\n",
    "Recently, I started using the [pandas](http://pandas.pydata.org/) python library to improve the quality \n",
    "(and quantity) of statistics in my applications. One method that has helped me much is the `pivot_table`\n",
    "command. This is a really (at least for me) complicated command that has\n",
    "[very poor documentation](http://pandas.pydata.org/pandas-docs/stable/generated/pandas.pivot_table.html).\n",
    "Beyond this, this command is explained a little more in an article about \n",
    "[data reshaping](http://pandas.pydata.org/pandas-docs/stable/reshaping.html), however, even this leaves\n",
    "much to be desired (when I first tried reading it I was overwhelmed by the amount of information there).\n",
    "\n",
    "A great introduction to pandas is the [three part series](http://www.gregreda.com/2013/10/26/intro-to-pandas-data-structures/) by Greg Reda - it touches `pivot_table` however I was only able to understand what it happend *after* I loose a lot of time playing myself with `pivot_table`.\n",
    "\n",
    "I have to mention that I am no expert in statistics or\n",
    "numeric analysis so this post won't have any advanced \n",
    "information and may even point out some obvious things. However\n",
    "keep in mind things that may seem obvious to some\n",
    "experts are really difficult to grasp for a non-expert.\n",
    "\n",
    "Before continuing, please notice that this article has been written as a [jupyter notebook](http://jupyter.org/) and was integrated with pelican using the [pelican-ipynb plugin](https://github.com/danielfrg/pelican-ipynb). I had to do some modifications to my theme to better integrate the notebook styling, however some stuff may not look as nice as the other articles."
   ]
  },
  {
   "cell_type": "markdown",
   "metadata": {},
   "source": [
    "The DataFrame\n",
    "=============\n",
    "\n",
    "The most important (new) data structure that pandas uses is the [DataFrame](http://pandas.pydata.org/pandas-docs/stable/generated/pandas.DataFrame.html). This can be thought as a two dimensional array, something like an Excel sheet. In the pandas nomenclature, the rows of that two-dimensional array are called *indexes* (while the columns keep their name). Also, if we horizontally/vertically pick the values of a single row(index)/column we'll be left with a different data structure called [Series](http://pandas.pydata.org/pandas-docs/stable/generated/pandas.Series.html) - so an array is a series. There's also a [Panel](http://pandas.pydata.org/pandas-docs/stable/generated/pandas.Panel.html) data structure which is 3-dimensional, more like a complete Excel workbook (the third dimension being the sheets of the workbook) but I won't cover that here.\n",
    "\n",
    "More info on the above can be found on the corresponding [article about data structures](http://pandas.pydata.org/pandas-docs/stable/dsintro.html).\n",
    "\n",
    "There are various ways to read the data for a Series or DataFrame: Initializing through arrays or dicts, reading from csv, xls, database, combinining series to create an array and various others. I won't go into any details about this but will include some examples on how to create Series and DataFrames.\n",
    "\n",
    "Before continuing with more info on the `pivot_table` operation, I will list a number of examples as a quick reference on how to work with Series and DataFrames that will be useful in the rest of the article (and should be useful in general). Notice that I'm using pandas 0.18.1."
   ]
  },
  {
   "cell_type": "markdown",
   "metadata": {},
   "source": [
    "Using Series\n",
    "------------"
   ]
  },
  {
   "cell_type": "code",
   "execution_count": 6,
   "metadata": {
    "collapsed": false
   },
   "outputs": [
    {
     "name": "stdout",
     "output_type": "stream",
     "text": [
      " series1 ( Series )\n",
      "0    10\n",
      "1    20\n",
      "2    30\n",
      "dtype: int64\n",
      "series2 ( Series )\n",
      "row1    11\n",
      "row2    22\n",
      "row3    33\n",
      "dtype: int64\n"
     ]
    }
   ],
   "source": [
    "import pandas as pd\n",
    "\n",
    "def t(o):\n",
    "    # Return the class name of the object\n",
    "    return o.__class__.__name__\n",
    "\n",
    "# Use an array to create a Series\n",
    "series1 = pd.Series([10,20,30])\n",
    "print \"series1 (\", t(series1), ')\\n', series1\n",
    "# Notice that the index names were automatically generated as 0,1,2\n",
    "# Use a dict to create a Series\n",
    "# notice that the keys of the dict will be the index names\n",
    "series2 = pd.Series({'row1':11,'row2':22,'row3':33})\n",
    "print \"series2 (\", t(series2), ')\\n', series2"
   ]
  },
  {
   "cell_type": "code",
   "execution_count": 7,
   "metadata": {
    "collapsed": false
   },
   "outputs": [
    {
     "name": "stdout",
     "output_type": "stream",
     "text": [
      "10 11 11\n",
      "1    20\n",
      "2    30\n",
      "dtype: int64\n",
      "0    10\n",
      "2    30\n",
      "dtype: int64\n",
      "row2    22\n",
      "row3    33\n",
      "dtype: int64\n",
      "row1    11\n",
      "row3    33\n",
      "dtype: int64\n"
     ]
    }
   ],
   "source": [
    "# Get values from series using the indexes\n",
    "print series1[0], series2[0], series2['row1']\n",
    "# Can also use slicing and interesting operations \n",
    "# like array in array [[]] to select specific indexes\n",
    "print series1[1:]\n",
    "print series1[[0,2]]\n",
    "print series2['row2':]\n",
    "print series2[['row1', 'row3']]"
   ]
  },
  {
   "cell_type": "markdown",
   "metadata": {},
   "source": [
    "Using DataFrames\n",
    "----------------"
   ]
  },
  {
   "cell_type": "code",
   "execution_count": 8,
   "metadata": {
    "collapsed": false
   },
   "outputs": [
    {
     "name": "stdout",
     "output_type": "stream",
     "text": [
      "Dataframe from array: df1( DataFrame )\n",
      "    0   1   2\n",
      "0  10  20  30\n",
      "1  40  50  60\n",
      "Dataframe from dict: df2( DataFrame )\n",
      "   col1  col2  col3\n",
      "0    10    20    30\n",
      "1    40    50    60\n",
      "Dataframe from dict, named indexes: df3( DataFrame )\n",
      "      col1  col2  col3\n",
      "idx1    10    20    30\n",
      "idx2    40    50    60\n",
      "Dataframe from dict, missing columns: df4( DataFrame )\n",
      "   col1  col2  col3  col4\n",
      "0  10.0    20    30   NaN\n",
      "1   NaN    40    50  60.0\n",
      "Dataframe from series: df5( DataFrame )\n",
      "   0  1\n",
      "a  1  2\n",
      "b  3  4\n"
     ]
    }
   ],
   "source": [
    "# Create a DataFrame using a two-dimensional array\n",
    "# Notice that the indexes and column names were automatically generated\n",
    "df1 = pd.DataFrame([[10,20,30], [40,50,60]])\n",
    "print \"Dataframe from array: df1(\", t(df1), ')'\n",
    "print df1\n",
    "\n",
    "# Use a dict to give names to \n",
    "df2 = pd.DataFrame([{'col1':10,'col2':20,'col3':30}, {'col1':40,'col2':50,'col3':60}])\n",
    "print \"Dataframe from dict: df2(\", t(df2), ')'\n",
    "print df2\n",
    "\n",
    "# Give names to indexes\n",
    "df3 = pd.DataFrame([\n",
    "    {'col1':10,'col2':20,'col3':30}, \n",
    "    {'col1':40,'col2':50,'col3':60}\n",
    "], index=['idx1', 'idx2'])\n",
    "print \"Dataframe from dict, named indexes: df3(\", t(df3), ')'\n",
    "print df3\n",
    "\n",
    "# What happens when columns are missing\n",
    "df4 = pd.DataFrame([{'col1':10,'col2':20,'col3':30}, {'col2':40,'col3':50,'col4':60}])\n",
    "print \"Dataframe from dict, missing columns: df4(\", t(df4), ')'\n",
    "print df4\n",
    "\n",
    "# Create a DataFrame by combining series\n",
    "df5 = pd.DataFrame([pd.Series([1,2]), pd.Series([3,4])], index=['a', 'b'], )\n",
    "print \"Dataframe from series: df5(\", t(df5), ')'\n",
    "print df5"
   ]
  },
  {
   "cell_type": "code",
   "execution_count": 9,
   "metadata": {
    "collapsed": false
   },
   "outputs": [
    {
     "name": "stdout",
     "output_type": "stream",
     "text": [
      "df3( DataFrame )\n",
      "      col1  col2  col3\n",
      "idx1    10    20    30\n",
      "idx2    40    50    60\n",
      "Get value\n",
      "50\n",
      "Get column as series\n",
      "idx1    30\n",
      "idx2    60\n",
      "Name: col3, dtype: int64\n",
      "Get column as series\n",
      "      col3  col2\n",
      "idx1    30    20\n",
      "idx2    60    50\n",
      "Get column by index\n",
      "idx1    30\n",
      "idx2    60\n",
      "Name: col3, dtype: int64\n",
      "Get index as a series\n",
      "col1    10\n",
      "col2    20\n",
      "col3    30\n",
      "Name: idx1, dtype: int64\n",
      "Get index as a series by index\n",
      "col1    10\n",
      "col2    20\n",
      "col3    30\n",
      "Name: idx1, dtype: int64\n"
     ]
    }
   ],
   "source": [
    "print \"df3(\", t(df3), \")\\n\", df3\n",
    "\n",
    "# Pick values from a dataframe using array indexing\n",
    "print \"Get value\\n\", df3['col2']['idx2']\n",
    "\n",
    "# We can get a column as a series\n",
    "print \"Get column as series\\n\", df3['col3']\n",
    "\n",
    "# Or multiple columns (as a DatFrame)\n",
    "print \"Get column as series\\n\", df3[['col3', 'col2']]\n",
    "\n",
    "# We can also get the column by its idx\n",
    "print \"Get column by index\\n\", df3[df3.columns[2]]\n",
    "\n",
    "# Pick an index (select horizontal line) as a series\n",
    "print \"Get index as a series\\n\", df3.loc['idx1']\n",
    "\n",
    "# Also can pick by index number\n",
    "print \"Get index as a series by index\\n\", df3.iloc[0]"
   ]
  },
  {
   "cell_type": "markdown",
   "metadata": {},
   "source": [
    "Modifying DataFrames\n",
    "--------------------"
   ]
  },
  {
   "cell_type": "code",
   "execution_count": 28,
   "metadata": {
    "collapsed": false
   },
   "outputs": [
    {
     "name": "stdout",
     "output_type": "stream",
     "text": [
      "      col1  col2  col3\n",
      "idx1    10    20    30\n",
      "idx2    40    50    60\n",
      "Change values of a column\n",
      "      col1  col2  col3\n",
      "idx1    11    20    30\n",
      "idx2    41    50    60\n",
      "Change values of an index\n",
      "      col1  col2  col3\n",
      "idx1    11    21    31\n",
      "idx2    41    50    60\n",
      "Add another column to an existing dataframe (changes DataFrame)\n",
      "      col1  col2  col3  col4\n",
      "idx1    11    21    31     1\n",
      "idx2    41    50    60     2\n",
      "Add another row (index) to an existing dataframe (changes DataFrame)\n",
      "      col1  col2  col3  col4\n",
      "idx1    11    21    31     1\n",
      "idx2    41    50    60     2\n",
      "idx3   100   200   300   400\n",
      "Drop a row (returns new object)\n",
      "      col1  col2  col3  col4\n",
      "idx2    41    50    60     2\n",
      "idx3   100   200   300   400\n",
      "Drop a column (returns new object)\n",
      "      col2  col3  col4\n",
      "idx1    21    31     1\n",
      "idx2    50    60     2\n",
      "idx3   200   300   400\n",
      "Rename index (returns new object)\n",
      "           col1  col2  col3  col4\n",
      "new-idx-1    11    21    31     1\n",
      "idx2         41    50    60     2\n",
      "idx3        100   200   300   400\n",
      "Rename column (returns new object)\n",
      "      new-col-1  col2  col3  col4\n",
      "idx1         11    21    31     1\n",
      "idx2         41    50    60     2\n",
      "idx3        100   200   300   400\n",
      "Transpose array- change columns to rows and vice versa\n",
      "      idx1  idx2  idx3\n",
      "col1    11    41   100\n",
      "col2    21    50   200\n",
      "col3    31    60   300\n",
      "col4     1     2   400\n",
      "Double transpose - returns the initial DataFrame\n",
      "      col1  col2  col3  col4\n",
      "idx1    11    21    31     1\n",
      "idx2    41    50    60     2\n",
      "idx3   100   200   300   400\n"
     ]
    }
   ],
   "source": [
    "# Let's copy because some of the following operators change the dataframes\n",
    "df = df3.copy()\n",
    "print df\n",
    "\n",
    "print \"Change values of a column\"\n",
    "df['col1'] = [11,41]\n",
    "print df\n",
    "\n",
    "print \"Change values of an index\"\n",
    "df.loc['idx1'] = [11,21, 31]\n",
    "print df\n",
    "\n",
    "print \"Add another column to an existing dataframe (changes DataFrame)\"\n",
    "df['col4'] = [1,2]\n",
    "print df\n",
    "\n",
    "print \"Add another row (index) to an existing dataframe (changes DataFrame)\"\n",
    "df.loc['idx3']=[100,200,300,400]\n",
    "print df\n",
    "\n",
    "print \"Drop a row (returns new object)\"\n",
    "print df.drop('idx1')\n",
    "\n",
    "print \"Drop a column (returns new object)\"\n",
    "print df.drop('col1', axis=1)\n",
    "\n",
    "print \"Rename index (returns new object)\"\n",
    "print df.rename(index={'idx1': 'new-idx-1'})\n",
    "\n",
    "print \"Rename column (returns new object)\"\n",
    "print df.rename(columns={'col1': 'new-col-1'})\n",
    "\n",
    "print \"Transpose array- change columns to rows and vice versa\"\n",
    "print df.T\n",
    "\n",
    "print \"Double transpose - returns the initial DataFrame\"\n",
    "print df.T.T"
   ]
  },
  {
   "cell_type": "markdown",
   "metadata": {
    "collapsed": true
   },
   "source": [
    "More advanced operations\n",
    "------------------------"
   ]
  },
  {
   "cell_type": "code",
   "execution_count": 27,
   "metadata": {
    "collapsed": false
   },
   "outputs": [
    {
     "name": "stdout",
     "output_type": "stream",
     "text": [
      "   id              name\n",
      "0   1      Stephen King\n",
      "1   2  Michael Crichton\n",
      "   author_id  id           name\n",
      "0          1   1             It\n",
      "1          1   2      The Stand\n",
      "2          2   3       Airframe\n",
      "3          2   4  Jurassic Park\n",
      "   author_id  id_x         name_x  id_y            name_y\n",
      "0          1     1             It     1      Stephen King\n",
      "1          1     2      The Stand     1      Stephen King\n",
      "2          2     3       Airframe     2  Michael Crichton\n",
      "3          2     4  Jurassic Park     2  Michael Crichton\n"
     ]
    }
   ],
   "source": [
    "authors_df=pd.DataFrame([{'id': 1, 'name':'Stephen King'}, {'id': 2, 'name':'Michael Crichton'}])\n",
    "#authors_df.set_index('id', inplace=True)\n",
    "books_df=pd.DataFrame([\n",
    "        {'id': 1, 'author_id':1, 'name':'It'}, \n",
    "        {'id': 2, 'author_id':1, 'name':'The Stand'}, \n",
    "        {'id': 3, 'author_id':2, 'name':'Airframe'},\n",
    "        {'id': 4, 'author_id':2, 'name':'Jurassic Park'}\n",
    "    ])\n",
    "print authors_df\n",
    "print books_df\n",
    "print books_df.merge(authors_df, left_on='author_id', right_on='id')"
   ]
  },
  {
   "cell_type": "markdown",
   "metadata": {},
   "source": [
    "A real-world example\n",
    "====================\n",
    "\n",
    "To continue with a real-world example, I will use [MovieLens 100k](http://grouplens.org/datasets/movielens/) to represent some `pivot_table` operations. To load the data I've used the code already provided by the [three part series I already mentioned](http://www.gregreda.com/2013/10/26/working-with-pandas-dataframes/)"
   ]
  },
  {
   "cell_type": "code",
   "execution_count": 318,
   "metadata": {
    "collapsed": false
   },
   "outputs": [],
   "source": [
    "import os\n",
    "import pandas as pd\n",
    "\n",
    "path = 'C:/Users/serafeim/Downloads/ml-100k' # Change this to your own directory\n",
    "u_cols = ['user_id', 'age', 'sex', 'occupation', 'zip_code']\n",
    "users = pd.read_csv(os.path.join(path, 'u.user'), sep='|', names=u_cols, encoding='latin-1')\n",
    "r_cols = ['user_id', 'movie_id', 'rating', 'unix_timestamp']\n",
    "ratings = pd.read_csv(os.path.join(path, 'u.data'), sep='\\t', names=r_cols, encoding='latin-1')\n",
    "m_cols = ['movie_id', 'title', 'release_date', 'video_release_date', 'imdb_url']\n",
    "movies = pd.read_csv(os.path.join(path, 'u.item'), sep='|', names=m_cols, usecols=range(5), encoding='latin-1')\n",
    "movie_ratings = pd.merge(movies, ratings)\n",
    "lens = pd.merge(movie_ratings, users)"
   ]
  },
  {
   "cell_type": "code",
   "execution_count": 99,
   "metadata": {
    "collapsed": false
   },
   "outputs": [
    {
     "data": {
      "text/plain": [
       "0           1\n",
       "1           4\n",
       "2           5\n",
       "3           7\n",
       "4           8\n",
       "5           9\n",
       "6          11\n",
       "7          12\n",
       "8          15\n",
       "9          17\n",
       "10         19\n",
       "11         21\n",
       "12         22\n",
       "13         23\n",
       "14         24\n",
       "15         25\n",
       "16         28\n",
       "17         30\n",
       "18         31\n",
       "19         32\n",
       "20         42\n",
       "21         44\n",
       "22         45\n",
       "23         47\n",
       "24         48\n",
       "25         49\n",
       "26         50\n",
       "27         54\n",
       "28         55\n",
       "29         56\n",
       "         ... \n",
       "99970     332\n",
       "99971     334\n",
       "99972     338\n",
       "99973     346\n",
       "99974     682\n",
       "99975     873\n",
       "99976     877\n",
       "99977     886\n",
       "99978    1527\n",
       "99979     272\n",
       "99980     288\n",
       "99981     294\n",
       "99982     300\n",
       "99983     310\n",
       "99984     313\n",
       "99985     322\n",
       "99986     328\n",
       "99987     333\n",
       "99988     338\n",
       "99989     346\n",
       "99990     354\n",
       "99991     362\n",
       "99992     683\n",
       "99993     689\n",
       "99994     690\n",
       "99995     748\n",
       "99996     751\n",
       "99997     879\n",
       "99998     894\n",
       "99999     901\n",
       "Name: movie_id, dtype: int64"
      ]
     },
     "execution_count": 99,
     "metadata": {},
     "output_type": "execute_result"
    }
   ],
   "source": [
    "lens['movie_id']"
   ]
  },
  {
   "cell_type": "code",
   "execution_count": 6,
   "metadata": {
    "collapsed": false
   },
   "outputs": [
    {
     "data": {
      "text/html": [
       "<div>\n",
       "<table border=\"1\" class=\"dataframe\">\n",
       "  <thead>\n",
       "    <tr style=\"text-align: right;\">\n",
       "      <th></th>\n",
       "      <th>movie_id</th>\n",
       "      <th>title</th>\n",
       "      <th>release_date</th>\n",
       "      <th>user_id</th>\n",
       "      <th>rating</th>\n",
       "      <th>unix_timestamp</th>\n",
       "      <th>age</th>\n",
       "      <th>sex</th>\n",
       "      <th>occupation</th>\n",
       "      <th>zip_code</th>\n",
       "      <th>release_year</th>\n",
       "    </tr>\n",
       "  </thead>\n",
       "  <tbody>\n",
       "    <tr>\n",
       "      <th>0</th>\n",
       "      <td>1</td>\n",
       "      <td>Toy Story (1995)</td>\n",
       "      <td>01-Jan-1995</td>\n",
       "      <td>308</td>\n",
       "      <td>4</td>\n",
       "      <td>887736532</td>\n",
       "      <td>60</td>\n",
       "      <td>M</td>\n",
       "      <td>retired</td>\n",
       "      <td>95076</td>\n",
       "      <td>1995</td>\n",
       "    </tr>\n",
       "    <tr>\n",
       "      <th>1</th>\n",
       "      <td>4</td>\n",
       "      <td>Get Shorty (1995)</td>\n",
       "      <td>01-Jan-1995</td>\n",
       "      <td>308</td>\n",
       "      <td>5</td>\n",
       "      <td>887737890</td>\n",
       "      <td>60</td>\n",
       "      <td>M</td>\n",
       "      <td>retired</td>\n",
       "      <td>95076</td>\n",
       "      <td>1995</td>\n",
       "    </tr>\n",
       "    <tr>\n",
       "      <th>2</th>\n",
       "      <td>5</td>\n",
       "      <td>Copycat (1995)</td>\n",
       "      <td>01-Jan-1995</td>\n",
       "      <td>308</td>\n",
       "      <td>4</td>\n",
       "      <td>887739608</td>\n",
       "      <td>60</td>\n",
       "      <td>M</td>\n",
       "      <td>retired</td>\n",
       "      <td>95076</td>\n",
       "      <td>1995</td>\n",
       "    </tr>\n",
       "    <tr>\n",
       "      <th>3</th>\n",
       "      <td>7</td>\n",
       "      <td>Twelve Monkeys (1995)</td>\n",
       "      <td>01-Jan-1995</td>\n",
       "      <td>308</td>\n",
       "      <td>4</td>\n",
       "      <td>887738847</td>\n",
       "      <td>60</td>\n",
       "      <td>M</td>\n",
       "      <td>retired</td>\n",
       "      <td>95076</td>\n",
       "      <td>1995</td>\n",
       "    </tr>\n",
       "    <tr>\n",
       "      <th>4</th>\n",
       "      <td>8</td>\n",
       "      <td>Babe (1995)</td>\n",
       "      <td>01-Jan-1995</td>\n",
       "      <td>308</td>\n",
       "      <td>5</td>\n",
       "      <td>887736696</td>\n",
       "      <td>60</td>\n",
       "      <td>M</td>\n",
       "      <td>retired</td>\n",
       "      <td>95076</td>\n",
       "      <td>1995</td>\n",
       "    </tr>\n",
       "  </tbody>\n",
       "</table>\n",
       "</div>"
      ],
      "text/plain": [
       "   movie_id                  title release_date  user_id  rating  \\\n",
       "0         1       Toy Story (1995)  01-Jan-1995      308       4   \n",
       "1         4      Get Shorty (1995)  01-Jan-1995      308       5   \n",
       "2         5         Copycat (1995)  01-Jan-1995      308       4   \n",
       "3         7  Twelve Monkeys (1995)  01-Jan-1995      308       4   \n",
       "4         8            Babe (1995)  01-Jan-1995      308       5   \n",
       "\n",
       "   unix_timestamp  age sex occupation zip_code release_year  \n",
       "0       887736532   60   M    retired    95076         1995  \n",
       "1       887737890   60   M    retired    95076         1995  \n",
       "2       887739608   60   M    retired    95076         1995  \n",
       "3       887738847   60   M    retired    95076         1995  \n",
       "4       887736696   60   M    retired    95076         1995  "
      ]
     },
     "execution_count": 6,
     "metadata": {},
     "output_type": "execute_result"
    }
   ],
   "source": [
    "droplens = lens.drop(['video_release_date', 'imdb_url'], 1)\n",
    "droplens['release_year']=droplens['release_date'].apply(lambda x: str(x).split('-')[2] if len(str(x).split('-'))>2 else 0)\n",
    "droplens.head()"
   ]
  },
  {
   "cell_type": "code",
   "execution_count": 72,
   "metadata": {
    "collapsed": false
   },
   "outputs": [
    {
     "data": {
      "text/html": [
       "<div>\n",
       "<table border=\"1\" class=\"dataframe\">\n",
       "  <thead>\n",
       "    <tr>\n",
       "      <th></th>\n",
       "      <th colspan=\"11\" halign=\"left\">age</th>\n",
       "    </tr>\n",
       "    <tr>\n",
       "      <th>rating</th>\n",
       "      <th colspan=\"2\" halign=\"left\">1</th>\n",
       "      <th colspan=\"2\" halign=\"left\">2</th>\n",
       "      <th colspan=\"2\" halign=\"left\">3</th>\n",
       "      <th colspan=\"2\" halign=\"left\">4</th>\n",
       "      <th colspan=\"2\" halign=\"left\">5</th>\n",
       "      <th>All</th>\n",
       "    </tr>\n",
       "    <tr>\n",
       "      <th>sex</th>\n",
       "      <th>F</th>\n",
       "      <th>M</th>\n",
       "      <th>F</th>\n",
       "      <th>M</th>\n",
       "      <th>F</th>\n",
       "      <th>M</th>\n",
       "      <th>F</th>\n",
       "      <th>M</th>\n",
       "      <th>F</th>\n",
       "      <th>M</th>\n",
       "      <th></th>\n",
       "    </tr>\n",
       "    <tr>\n",
       "      <th>release_year</th>\n",
       "      <th></th>\n",
       "      <th></th>\n",
       "      <th></th>\n",
       "      <th></th>\n",
       "      <th></th>\n",
       "      <th></th>\n",
       "      <th></th>\n",
       "      <th></th>\n",
       "      <th></th>\n",
       "      <th></th>\n",
       "      <th></th>\n",
       "    </tr>\n",
       "  </thead>\n",
       "  <tbody>\n",
       "    <tr>\n",
       "      <th>1996</th>\n",
       "      <td>30.486239</td>\n",
       "      <td>30.373198</td>\n",
       "      <td>32.781437</td>\n",
       "      <td>31.576959</td>\n",
       "      <td>33.086124</td>\n",
       "      <td>32.718188</td>\n",
       "      <td>32.757335</td>\n",
       "      <td>32.178464</td>\n",
       "      <td>30.494777</td>\n",
       "      <td>32.073340</td>\n",
       "      <td>32.126852</td>\n",
       "    </tr>\n",
       "    <tr>\n",
       "      <th>1997</th>\n",
       "      <td>30.333333</td>\n",
       "      <td>30.795053</td>\n",
       "      <td>31.926647</td>\n",
       "      <td>33.264409</td>\n",
       "      <td>32.638767</td>\n",
       "      <td>33.808467</td>\n",
       "      <td>33.224982</td>\n",
       "      <td>33.826004</td>\n",
       "      <td>32.225541</td>\n",
       "      <td>33.025606</td>\n",
       "      <td>33.086874</td>\n",
       "    </tr>\n",
       "    <tr>\n",
       "      <th>1998</th>\n",
       "      <td>25.105263</td>\n",
       "      <td>31.028169</td>\n",
       "      <td>34.205882</td>\n",
       "      <td>36.059524</td>\n",
       "      <td>32.360000</td>\n",
       "      <td>34.153061</td>\n",
       "      <td>32.845238</td>\n",
       "      <td>33.860656</td>\n",
       "      <td>33.785714</td>\n",
       "      <td>34.089431</td>\n",
       "      <td>33.403633</td>\n",
       "    </tr>\n",
       "    <tr>\n",
       "      <th>All</th>\n",
       "      <td>30.181609</td>\n",
       "      <td>30.593199</td>\n",
       "      <td>32.400000</td>\n",
       "      <td>32.404891</td>\n",
       "      <td>32.857241</td>\n",
       "      <td>33.208988</td>\n",
       "      <td>32.970278</td>\n",
       "      <td>32.986571</td>\n",
       "      <td>31.375121</td>\n",
       "      <td>32.611830</td>\n",
       "      <td>32.598420</td>\n",
       "    </tr>\n",
       "  </tbody>\n",
       "</table>\n",
       "</div>"
      ],
      "text/plain": [
       "                    age                                              \\\n",
       "rating                1                     2                     3   \n",
       "sex                   F          M          F          M          F   \n",
       "release_year                                                          \n",
       "1996          30.486239  30.373198  32.781437  31.576959  33.086124   \n",
       "1997          30.333333  30.795053  31.926647  33.264409  32.638767   \n",
       "1998          25.105263  31.028169  34.205882  36.059524  32.360000   \n",
       "All           30.181609  30.593199  32.400000  32.404891  32.857241   \n",
       "\n",
       "                                                                                \n",
       "rating                           4                     5                   All  \n",
       "sex                   M          F          M          F          M             \n",
       "release_year                                                                    \n",
       "1996          32.718188  32.757335  32.178464  30.494777  32.073340  32.126852  \n",
       "1997          33.808467  33.224982  33.826004  32.225541  33.025606  33.086874  \n",
       "1998          34.153061  32.845238  33.860656  33.785714  34.089431  33.403633  \n",
       "All           33.208988  32.970278  32.986571  31.375121  32.611830  32.598420  "
      ]
     },
     "execution_count": 72,
     "metadata": {},
     "output_type": "execute_result"
    }
   ],
   "source": [
    "droplens[droplens['release_year'] > '1995'].pivot_table(\n",
    "    columns=['rating', 'sex',],\n",
    "    index=[ 'release_year'],\n",
    "    values=[ 'age'], \n",
    "    fill_value=0,\n",
    "    margins=True \n",
    ")\n"
   ]
  },
  {
   "cell_type": "code",
   "execution_count": 178,
   "metadata": {
    "collapsed": false
   },
   "outputs": [
    {
     "data": {
      "text/plain": [
       "     sex\n",
       "age  F      float64\n",
       "     M      float64\n",
       "dtype: object"
      ]
     },
     "execution_count": 178,
     "metadata": {},
     "output_type": "execute_result"
    }
   ],
   "source": [
    "droplens[droplens['release_year'] > '1995'].pivot_table(index=['rating'], values=['age'], columns=['sex'] ).dtypes"
   ]
  },
  {
   "cell_type": "markdown",
   "metadata": {},
   "source": [
    "How to use the pivot!"
   ]
  },
  {
   "cell_type": "code",
   "execution_count": 29,
   "metadata": {
    "collapsed": false
   },
   "outputs": [
    {
     "ename": "NameError",
     "evalue": "name 'droplens' is not defined",
     "output_type": "error",
     "traceback": [
      "\u001b[0;31m---------------------------------------------------------------------------\u001b[0m",
      "\u001b[0;31mNameError\u001b[0m                                 Traceback (most recent call last)",
      "\u001b[0;32m<ipython-input-29-91efa4ab5ead>\u001b[0m in \u001b[0;36m<module>\u001b[0;34m()\u001b[0m\n\u001b[0;32m----> 1\u001b[0;31m \u001b[0mdroplens\u001b[0m\u001b[1;33m[\u001b[0m\u001b[0mdroplens\u001b[0m\u001b[1;33m[\u001b[0m\u001b[1;34m'release_year'\u001b[0m\u001b[1;33m]\u001b[0m \u001b[1;33m>\u001b[0m \u001b[1;34m'1995'\u001b[0m\u001b[1;33m]\u001b[0m\u001b[1;33m.\u001b[0m\u001b[0mhead\u001b[0m\u001b[1;33m(\u001b[0m\u001b[1;33m)\u001b[0m\u001b[1;33m.\u001b[0m\u001b[0mpivot\u001b[0m\u001b[1;33m(\u001b[0m\u001b[0mindex\u001b[0m\u001b[1;33m=\u001b[0m\u001b[1;34m'movie_id'\u001b[0m\u001b[1;33m,\u001b[0m \u001b[0mcolumns\u001b[0m\u001b[1;33m=\u001b[0m\u001b[1;34m'age'\u001b[0m\u001b[1;33m,\u001b[0m \u001b[0mvalues\u001b[0m\u001b[1;33m=\u001b[0m\u001b[1;34m'rating'\u001b[0m\u001b[1;33m)\u001b[0m\u001b[1;33m\u001b[0m\u001b[0m\n\u001b[0m",
      "\u001b[0;31mNameError\u001b[0m: name 'droplens' is not defined"
     ]
    }
   ],
   "source": [
    "droplens[droplens['release_year'] > '1995'].head().pivot(index='movie_id', columns='age', values='rating')"
   ]
  }
 ],
 "metadata": {
  "celltoolbar": "Raw Cell Format",
  "kernelspec": {
   "display_name": "Python 2",
   "language": "python",
   "name": "python2"
  }
 },
 "nbformat": 4,
 "nbformat_minor": 1
}
